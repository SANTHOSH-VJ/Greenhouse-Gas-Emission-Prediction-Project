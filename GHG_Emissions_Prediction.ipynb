{
 "cells": [
  {
   "cell_type": "code",
   "execution_count": null,
   "id": "73b3df80",
   "metadata": {},
   "outputs": [],
   "source": [
    "import pandas as pd\n",
    "import numpy as np\n",
    "import seaborn as sns\n",
    "import matplotlib.pyplot as plt\n",
    "\n",
    "from sklearn.model_selection import train_test_split, GridSearchCV\n",
    "from sklearn.preprocessing import StandardScaler\n",
    "from sklearn.ensemble import RandomForestRegressor\n",
    "from sklearn.metrics import mean_squared_error, r2_score\n",
    "import joblib"
   ]
  },
  {
   "cell_type": "code",
   "execution_count": null,
   "id": "46544554",
   "metadata": {},
   "outputs": [],
   "source": [
    "excel_file = 'SupplyChainEmissionFactorsforUSIndustriesCommodities.xlsx' \n",
    "years = range(2010, 2017)"
   ]
  },
  {
   "cell_type": "code",
   "execution_count": null,
   "id": "5e19725d",
   "metadata": {},
   "outputs": [],
   "source": [
    "years[2]"
   ]
  },
  {
   "cell_type": "code",
   "execution_count": null,
   "id": "f2917481",
   "metadata": {},
   "outputs": [],
   "source": [
    "df_1 = pd.read_excel(excel_file, sheet_name=f'{years[0]}_Detail_Commodity')\n",
    "df_1.head()"
   ]
  },
  {
   "cell_type": "code",
   "execution_count": null,
   "id": "e40f490d",
   "metadata": {},
   "outputs": [],
   "source": [
    "df_2 = pd.read_excel(excel_file, sheet_name=f'{years[0]}_Detail_Industry')\n",
    "df_2.head()"
   ]
  },
  {
   "cell_type": "code",
   "execution_count": null,
   "id": "85dc8570",
   "metadata": {},
   "outputs": [],
   "source": [
    "all_data = []\n",
    "for year in years:\n",
    "    try:\n",
    "        df_com = pd.read_excel(excel_file, sheet_name=f'{year}_Detail_Commodity')\n",
    "        df_ind = pd.read_excel(excel_file, sheet_name=f'{year}_Detail_Industry')\n",
    "        \n",
    "        df_com['Source'] = 'Commodity'\n",
    "        df_ind['Source'] = 'Industry'\n",
    "        df_com['Year'] = df_ind['Year'] = year\n",
    "        \n",
    "        df_com.columns = df_com.columns.str.strip()\n",
    "        df_ind.columns = df_ind.columns.str.strip()\n",
    "\n",
    "        df_com.rename(columns={\n",
    "            'Commodity Code': 'Code',\n",
    "            'Commodity Name': 'Name'\n",
    "        }, inplace=True)\n",
    "        \n",
    "        df_ind.rename(columns={\n",
    "            'Industry Code': 'Code',\n",
    "            'Industry Name': 'Name'\n",
    "        }, inplace=True)\n",
    "        \n",
    "        all_data.append(pd.concat([df_com, df_ind], ignore_index=True))\n",
    "        \n",
    "    except Exception as e:\n",
    "        print(f\"Error processing year {year}: {e}\")"
   ]
  },
  {
   "cell_type": "code",
   "execution_count": null,
   "id": "a3cf4de7",
   "metadata": {},
   "outputs": [],
   "source": [
    "all_data[3]"
   ]
  },
  {
   "cell_type": "code",
   "execution_count": null,
   "id": "8c81a6da",
   "metadata": {},
   "outputs": [],
   "source": [
    "len(all_data)"
   ]
  },
  {
   "cell_type": "code",
   "execution_count": null,
   "id": "753c6301",
   "metadata": {},
   "outputs": [],
   "source": [
    "df = pd.concat(all_data, ignore_index=True)\n",
    "df.head(10)"
   ]
  },
  {
   "cell_type": "code",
   "execution_count": null,
   "id": "fa39ad1a",
   "metadata": {},
   "outputs": [],
   "source": [
    "len(df)"
   ]
  },
  {
   "cell_type": "code",
   "execution_count": null,
   "id": "1feabcf8",
   "metadata": {},
   "outputs": [],
   "source": [
    "df.columns"
   ]
  },
  {
   "cell_type": "code",
   "execution_count": null,
   "id": "b318706b",
   "metadata": {},
   "outputs": [],
   "source": [
    "df.isnull().sum()"
   ]
  },
  {
   "cell_type": "code",
   "execution_count": null,
   "id": "9ea73cb7",
   "metadata": {},
   "outputs": [],
   "source": [
    "df.drop(columns=['Unnamed: 7'],inplace=True)"
   ]
  },
  {
   "cell_type": "code",
   "execution_count": null,
   "id": "6cc4e7b4",
   "metadata": {},
   "outputs": [],
   "source": [
    "df.columns"
   ]
  },
  {
   "cell_type": "code",
   "execution_count": null,
   "id": "9308c28e",
   "metadata": {},
   "outputs": [],
   "source": [
    "print(df.info())"
   ]
  },
  {
   "cell_type": "code",
   "execution_count": null,
   "id": "ae3d88fb",
   "metadata": {},
   "outputs": [],
   "source": [
    "df.describe().T"
   ]
  },
  {
   "cell_type": "code",
   "execution_count": null,
   "id": "9ea03520",
   "metadata": {},
   "outputs": [],
   "source": [
    "df.isnull().sum()"
   ]
  },
  {
   "cell_type": "code",
   "execution_count": null,
   "id": "bfbc1040",
   "metadata": {},
   "outputs": [],
   "source": [
    "sns.histplot(df['Supply Chain Emission Factors with Margins'], bins=50, kde=True)\n",
    "plt.title('Target Variable Distribution')\n",
    "plt.show()"
   ]
  },
  {
   "cell_type": "code",
   "execution_count": null,
   "id": "6393876d",
   "metadata": {},
   "outputs": [],
   "source": [
    "print(df['Substance'].value_counts())"
   ]
  },
  {
   "cell_type": "code",
   "execution_count": null,
   "id": "2c16138a",
   "metadata": {},
   "outputs": [],
   "source": [
    "print(df['Unit'].value_counts())"
   ]
  },
  {
   "cell_type": "code",
   "execution_count": null,
   "id": "767add1d",
   "metadata": {},
   "outputs": [],
   "source": [
    "print(df['Unit'].unique())"
   ]
  },
  {
   "cell_type": "code",
   "execution_count": null,
   "id": "c02f164a",
   "metadata": {},
   "outputs": [],
   "source": [
    "print(df['Source'].value_counts())"
   ]
  },
  {
   "cell_type": "code",
   "execution_count": null,
   "id": "dbcd3108",
   "metadata": {},
   "outputs": [],
   "source": [
    "df['Substance'].unique()"
   ]
  },
  {
   "cell_type": "code",
   "execution_count": null,
   "id": "b37b39b2",
   "metadata": {},
   "outputs": [],
   "source": [
    "substance_map={'carbon dioxide':0, 'methane':1, 'nitrous oxide':2, 'other GHGs':3}"
   ]
  },
  {
   "cell_type": "code",
   "execution_count": null,
   "id": "ad90f224",
   "metadata": {},
   "outputs": [],
   "source": [
    "df['Substance']=df['Substance'].map(substance_map)"
   ]
  },
  {
   "cell_type": "code",
   "execution_count": null,
   "id": "b22adc08",
   "metadata": {},
   "outputs": [],
   "source": [
    "df['Substance'].unique()"
   ]
  },
  {
   "cell_type": "code",
   "execution_count": null,
   "id": "13601657",
   "metadata": {},
   "outputs": [],
   "source": [
    "print(df['Unit'].unique())"
   ]
  },
  {
   "cell_type": "code",
   "execution_count": null,
   "id": "12048d1f",
   "metadata": {},
   "outputs": [],
   "source": [
    "unit_map={'kg/2018 USD, purchaser price':0, 'kg CO2e/2018 USD, purchaser price':1}"
   ]
  },
  {
   "cell_type": "code",
   "execution_count": null,
   "id": "95d5f9c3",
   "metadata": {},
   "outputs": [],
   "source": [
    "df['Unit']=df['Unit'].map(unit_map)"
   ]
  },
  {
   "cell_type": "code",
   "execution_count": null,
   "id": "afc654fe",
   "metadata": {},
   "outputs": [],
   "source": [
    "print(df['Unit'].unique())"
   ]
  },
  {
   "cell_type": "code",
   "execution_count": null,
   "id": "54b07858",
   "metadata": {},
   "outputs": [],
   "source": [
    "print(df['Source'].unique())"
   ]
  },
  {
   "cell_type": "code",
   "execution_count": null,
   "id": "f7768a40",
   "metadata": {},
   "outputs": [],
   "source": [
    "source_map={'Commodity':0, 'Industry':1}"
   ]
  },
  {
   "cell_type": "code",
   "execution_count": null,
   "id": "41e4ed38",
   "metadata": {},
   "outputs": [],
   "source": [
    "df['Source']=df['Source'].map(source_map)"
   ]
  },
  {
   "cell_type": "code",
   "execution_count": null,
   "id": "6b47ba55",
   "metadata": {},
   "outputs": [],
   "source": [
    "print(df['Source'].unique())"
   ]
  },
  {
   "cell_type": "code",
   "execution_count": null,
   "id": "42ce3719",
   "metadata": {},
   "outputs": [],
   "source": [
    "df.info()"
   ]
  },
  {
   "cell_type": "code",
   "execution_count": null,
   "id": "9c02d80f",
   "metadata": {},
   "outputs": [],
   "source": [
    "df.Code.unique()"
   ]
  },
  {
   "cell_type": "code",
   "execution_count": null,
   "id": "df5a1981",
   "metadata": {},
   "outputs": [],
   "source": [
    "df.Name.unique()"
   ]
  },
  {
   "cell_type": "code",
   "execution_count": null,
   "id": "2aa965bb",
   "metadata": {},
   "outputs": [],
   "source": [
    "len(df.Name.unique())"
   ]
  },
  {
   "cell_type": "code",
   "execution_count": null,
   "id": "9eaad7cd",
   "metadata": {},
   "outputs": [],
   "source": [
    "top_emitters = df[['Name', 'Supply Chain Emission Factors with Margins']].groupby('Name').mean().sort_values(\n",
    "    'Supply Chain Emission Factors with Margins', ascending=False).head(10) \n",
    "\n",
    "top_emitters = top_emitters.reset_index()"
   ]
  },
  {
   "cell_type": "code",
   "execution_count": null,
   "id": "33145a53",
   "metadata": {},
   "outputs": [],
   "source": [
    "top_emitters"
   ]
  },
  {
   "cell_type": "code",
   "execution_count": null,
   "id": "2b0d78d2",
   "metadata": {},
   "outputs": [],
   "source": [
    "plt.figure(figsize=(10,6))\n",
    "\n",
    "sns.barplot(\n",
    "    x='Supply Chain Emission Factors with Margins',\n",
    "    y='Name',\n",
    "    data=top_emitters,\n",
    "    hue='Name',\n",
    "    palette='viridis'  \n",
    ")\n",
    "\n",
    "for i, (value, name) in enumerate(zip(top_emitters['Supply Chain Emission Factors with Margins'], top_emitters.index), start=1):\n",
    "    plt.text(value + 0.01, i - 1, f'#{i}', va='center', fontsize=11, fontweight='bold', color='black')\n",
    "\n",
    "plt.title('Top 10 Emitting Industries', fontsize=14, fontweight='bold') \n",
    "plt.xlabel('Emission Factor (kg CO2e/unit)') \n",
    "plt.ylabel('Industry') \n",
    "plt.grid(axis='x', linestyle='--', alpha=0.6) \n",
    "plt.tight_layout() \n",
    "\n",
    "plt.show()"
   ]
  },
  {
   "cell_type": "code",
   "execution_count": null,
   "id": "344a84d7",
   "metadata": {},
   "outputs": [],
   "source": [
    "df.drop(columns=['Name','Code','Year'], inplace=True) "
   ]
  },
  {
   "cell_type": "code",
   "execution_count": null,
   "id": "7f2ecd6f",
   "metadata": {},
   "outputs": [],
   "source": [
    "df.head(1)"
   ]
  },
  {
   "cell_type": "code",
   "execution_count": null,
   "id": "f3922741",
   "metadata": {},
   "outputs": [],
   "source": [
    "df.shape"
   ]
  },
  {
   "cell_type": "code",
   "execution_count": null,
   "id": "0035e3d4",
   "metadata": {},
   "outputs": [],
   "source": [
    "df.columns"
   ]
  },
  {
   "cell_type": "code",
   "execution_count": null,
   "id": "8556256e",
   "metadata": {},
   "outputs": [],
   "source": [
    "X = df.drop(columns=['Supply Chain Emission Factors with Margins']) \n",
    "y = df['Supply Chain Emission Factors with Margins']"
   ]
  },
  {
   "cell_type": "code",
   "execution_count": null,
   "id": "f3506b9e",
   "metadata": {},
   "outputs": [],
   "source": [
    "X.head()"
   ]
  },
  {
   "cell_type": "code",
   "execution_count": null,
   "id": "3bbd0a20",
   "metadata": {},
   "outputs": [],
   "source": [
    "y.head()"
   ]
  },
  {
   "cell_type": "code",
   "execution_count": null,
   "id": "7b4c4fce",
   "metadata": {},
   "outputs": [],
   "source": [
    "plt.figure(figsize=(6, 3))\n",
    "sns.countplot(x=df[\"Substance\"])\n",
    "plt.title(\"Count Plot: Substance\")\n",
    "plt.xticks()\n",
    "plt.tight_layout()\n",
    "plt.show()"
   ]
  },
  {
   "cell_type": "code",
   "execution_count": null,
   "id": "9a3ceac1",
   "metadata": {},
   "outputs": [],
   "source": [
    "plt.figure(figsize=(6, 3))\n",
    "sns.countplot(x=df[\"Unit\"])\n",
    "plt.title(\"Count Plot: Unit\")\n",
    "plt.tight_layout()\n",
    "plt.show()"
   ]
  },
  {
   "cell_type": "code",
   "execution_count": null,
   "id": "c278a699",
   "metadata": {},
   "outputs": [],
   "source": [
    "plt.figure(figsize=(6, 4))\n",
    "sns.countplot(x=df[\"Source\"])\n",
    "plt.title(\"Count Plot: Source (Industry vs Commodity)\")\n",
    "plt.tight_layout()\n",
    "plt.show()"
   ]
  },
  {
   "cell_type": "code",
   "execution_count": null,
   "id": "20c42ccf",
   "metadata": {},
   "outputs": [],
   "source": [
    "df.columns"
   ]
  },
  {
   "cell_type": "code",
   "execution_count": null,
   "id": "b8153841",
   "metadata": {},
   "outputs": [],
   "source": [
    "df.select_dtypes(include=np.number).corr()"
   ]
  },
  {
   "cell_type": "code",
   "execution_count": null,
   "id": "7f7eac81",
   "metadata": {},
   "outputs": [],
   "source": [
    "df.info()"
   ]
  },
  {
   "cell_type": "code",
   "execution_count": null,
   "id": "a3813cc8",
   "metadata": {},
   "outputs": [],
   "source": [
    "plt.figure(figsize=(12, 8))\n",
    "sns.heatmap(df.select_dtypes(include=np.number).corr(), annot=True, cmap=\"coolwarm\")\n",
    "plt.title(\"Correlation Heatmap\")\n",
    "plt.show()"
   ]
  },
  {
   "cell_type": "code",
   "execution_count": null,
   "id": "668150a5",
   "metadata": {},
   "outputs": [],
   "source": []
  },
  {
   "cell_type": "code",
   "execution_count": null,
   "id": "0246e005",
   "metadata": {},
   "outputs": [],
   "source": []
  },
  {
   "cell_type": "code",
   "execution_count": null,
   "id": "7d2e7a9b",
   "metadata": {},
   "outputs": [],
   "source": []
  },
  {
   "cell_type": "code",
   "execution_count": null,
   "id": "1e1cb1a9",
   "metadata": {},
   "outputs": [],
   "source": []
  }
 ],
 "metadata": {
  "language_info": {
   "name": "python"
  }
 },
 "nbformat": 4,
 "nbformat_minor": 5
}
